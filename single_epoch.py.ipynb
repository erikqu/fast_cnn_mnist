{
 "cells": [
  {
   "cell_type": "markdown",
   "metadata": {},
   "source": [
    "## MNIST ONE-EPOCH  98% ACCURACY\n",
    "\n",
    "#### The shallow network below should give ~98.3% test accuracy on the MNIST dataset after one epoch.\n",
    "#### Tested on RTX 2080 FE, ~8s/epoch\n",
    " "
   ]
  },
  {
   "cell_type": "code",
   "execution_count": 66,
   "metadata": {},
   "outputs": [],
   "source": [
    "import keras\n",
    "import numpy as np\n",
    "from keras.datasets import mnist\n",
    "from keras.models import Sequential\n",
    "from keras.layers import Dense, Dropout, Flatten, Conv2D, MaxPooling2D"
   ]
  },
  {
   "cell_type": "code",
   "execution_count": 71,
   "metadata": {},
   "outputs": [
    {
     "name": "stdout",
     "output_type": "stream",
     "text": [
      "[name: \"/device:CPU:0\"\n",
      "device_type: \"CPU\"\n",
      "memory_limit: 268435456\n",
      "locality {\n",
      "}\n",
      "incarnation: 6205714172809913158\n",
      ", name: \"/device:GPU:0\"\n",
      "device_type: \"GPU\"\n",
      "memory_limit: 6571396301\n",
      "locality {\n",
      "  bus_id: 1\n",
      "  links {\n",
      "  }\n",
      "}\n",
      "incarnation: 2451317864812818548\n",
      "physical_device_desc: \"device: 0, name: GeForce RTX 2080, pci bus id: 0000:01:00.0, compute capability: 7.5\"\n",
      "]\n"
     ]
    }
   ],
   "source": [
    "from tensorflow.python.client import device_lib\n",
    "print(device_lib.list_local_devices())"
   ]
  },
  {
   "cell_type": "code",
   "execution_count": 67,
   "metadata": {},
   "outputs": [],
   "source": [
    "(x_train, y_train), (x_test, y_test) = mnist.load_data()\n",
    "\n",
    "#fetch shape sizes\n",
    "train_shape = x_train.shape[0]\n",
    "test_shape = x_test.shape[0]\n",
    "box_hw = 28 #dimensions of mnist are 28x28 \n",
    "\n",
    "#reshape to feed into keras\n",
    "x_train = x_train.reshape(train_shape, box_hw, box_hw, 1)\n",
    "x_test = x_test.reshape(test_shape, box_hw, box_hw, 1)\n",
    "input_shape = (box_hw, box_hw, 1)\n",
    "\n",
    "#convert our values to floats for normalization \n",
    "x_train = x_train.astype(np.float_)\n",
    "x_test = x_test.astype(np.float_)\n",
    "\n",
    "#normalize our values between 0,1\n",
    "x_train /= 255\n",
    "x_test /= 255\n",
    "\n",
    "#to make our data catgorizable, we use keras' to_categorical\n",
    "y_train = keras.utils.to_categorical(y_train, 10)\n",
    "y_test = keras.utils.to_categorical(y_test, 10)"
   ]
  },
  {
   "cell_type": "code",
   "execution_count": 73,
   "metadata": {},
   "outputs": [
    {
     "name": "stdout",
     "output_type": "stream",
     "text": [
      "Train on 60000 samples, validate on 10000 samples\n",
      "Epoch 1/1\n",
      "60000/60000 [==============================] - 8s 134us/step - loss: 0.1331 - acc: 0.9603 - val_loss: 0.0510 - val_acc: 0.9835: 25s - loss: 0.5322 - acc - ETA: 17s - loss: 0.4219 - acc - ETA: 13s - loss: 0.3665 - acc - ETA: 10s - loss: 0.3232 - acc: 0. - ETA: 10s - loss: 0.3050 - acc: 0. - ETA: 8s - loss: 0.2829 - acc:  - ETA: 7s - loss: 0.2510 - acc: 0.92 - ETA: 7s - loss: 0.2415 - acc:  - ETA: 6s - loss: 0.2190 - acc: 0.9 - ETA: 5s - loss: 0.2105 - acc - ETA: 4s - loss: 0.1917 - acc: 0. - ETA: 4s - loss: 0.1835 - acc: 0. - ETA: 3s - loss: 0.1766 - acc:  - ETA: 3s - loss: 0.1672 - acc: 0.95 - ETA: 2s - loss: 0.1644 - acc: 0.950 - ETA: 2s - loss: 0.1635 - acc: 0.951 - ETA: 2s - loss: 0.1630 - acc: 0.95 - ETA: 2s - loss: 0.1600 - ac - ETA: 1s - loss: 0.1522 - acc: 0.9 - ETA: 1s - loss: 0.1490 - acc: 0. - ETA: 1s - loss: 0.1454  - ETA: 0s - loss: 0.1345 - acc: 0.96\n"
     ]
    },
    {
     "data": {
      "text/plain": [
       "<keras.callbacks.History at 0x1763cc082b0>"
      ]
     },
     "execution_count": 73,
     "metadata": {},
     "output_type": "execute_result"
    }
   ],
   "source": [
    "model = Sequential()\n",
    "model.add(Conv2D(32, kernel_size=(8, 8), activation='relu', input_shape=input_shape))\n",
    "model.add(Dropout(0.2))\n",
    "model.add(Flatten())\n",
    "model.add(Dense(10, activation='softmax'))\n",
    "model.compile(loss=keras.losses.categorical_crossentropy, optimizer=keras.optimizers.RMSprop(),metrics=['accuracy'])\n",
    "model.fit(x_train, y_train,batch_size=32,epochs=1,validation_data=(x_test, y_test))"
   ]
  },
  {
   "cell_type": "code",
   "execution_count": 74,
   "metadata": {},
   "outputs": [
    {
     "name": "stdout",
     "output_type": "stream",
     "text": [
      "10000/10000 [==============================] - 1s 52us/step \n",
      "Test loss: 0.051016893663676455\n",
      "Test accuracy: 0.9835\n"
     ]
    }
   ],
   "source": [
    "score = model.evaluate(x_test, y_test)\n",
    "print('Test loss:', score[0])\n",
    "print('Test accuracy:', score[1])"
   ]
  }
 ],
 "metadata": {
  "kernelspec": {
   "display_name": "Python 3",
   "language": "python",
   "name": "python3"
  },
  "language_info": {
   "codemirror_mode": {
    "name": "ipython",
    "version": 3
   },
   "file_extension": ".py",
   "mimetype": "text/x-python",
   "name": "python",
   "nbconvert_exporter": "python",
   "pygments_lexer": "ipython3",
   "version": "3.6.5"
  }
 },
 "nbformat": 4,
 "nbformat_minor": 2
}
